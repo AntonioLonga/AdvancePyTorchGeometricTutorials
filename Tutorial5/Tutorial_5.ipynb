{
 "cells": [
  {
   "cell_type": "markdown",
   "id": "04c6a537",
   "metadata": {},
   "source": [
    "# Advance PyTorch Geometric Tutorial\n",
    "## Tutorial 5\n",
    "#### Antonio Longa, 10 Dec 2021\n",
    "\n",
    "# Advance mini-batching in PyG\n"
   ]
  },
  {
   "cell_type": "code",
   "execution_count": null,
   "id": "2abc1b72",
   "metadata": {},
   "outputs": [],
   "source": [
    "!pip install torch-scatter -f https://data.pyg.org/whl/torch-1.9.0+cu111.html\n",
    "!pip install torch-sparse -f https://data.pyg.org/whl/torch-1.9.0+cu111.html\n",
    "!pip install torch-geometric"
   ]
  },
  {
   "cell_type": "code",
   "execution_count": 1,
   "id": "7f6a619f",
   "metadata": {},
   "outputs": [],
   "source": [
    "# import libraries \n",
    "import torch\n",
    "\n",
    "\n",
    "from torch_geometric.datasets import TUDataset\n",
    "from torch_geometric.loader import DataLoader"
   ]
  },
  {
   "cell_type": "code",
   "execution_count": 2,
   "id": "ca76e501",
   "metadata": {},
   "outputs": [],
   "source": [
    "dataset = TUDataset(root=\"dataset/\", name='MUTAG')"
   ]
  },
  {
   "cell_type": "code",
   "execution_count": 3,
   "id": "ffa8e067",
   "metadata": {},
   "outputs": [
    {
     "data": {
      "text/plain": [
       "MUTAG(188)"
      ]
     },
     "execution_count": 3,
     "metadata": {},
     "output_type": "execute_result"
    }
   ],
   "source": [
    "dataset"
   ]
  },
  {
   "cell_type": "code",
   "execution_count": 4,
   "id": "afe7bd36",
   "metadata": {},
   "outputs": [
    {
     "data": {
      "text/plain": [
       "Data(x=[3371, 7], edge_index=[2, 7442], edge_attr=[7442, 4], y=[188])"
      ]
     },
     "execution_count": 4,
     "metadata": {},
     "output_type": "execute_result"
    }
   ],
   "source": [
    "dataset.data"
   ]
  },
  {
   "cell_type": "code",
   "execution_count": 5,
   "id": "e61d360c",
   "metadata": {},
   "outputs": [
    {
     "data": {
      "text/plain": [
       "Data(edge_index=[2, 38], x=[17, 7], edge_attr=[38, 4], y=[1])"
      ]
     },
     "execution_count": 5,
     "metadata": {},
     "output_type": "execute_result"
    }
   ],
   "source": [
    "dataset[0]"
   ]
  },
  {
   "cell_type": "code",
   "execution_count": 6,
   "id": "6083cab6",
   "metadata": {},
   "outputs": [
    {
     "data": {
      "text/plain": [
       "Data(edge_index=[2, 38], x=[17, 7], edge_attr=[38, 4], y=[1])"
      ]
     },
     "execution_count": 6,
     "metadata": {},
     "output_type": "execute_result"
    }
   ],
   "source": [
    "dataset[10]"
   ]
  },
  {
   "cell_type": "markdown",
   "id": "ee2699ae",
   "metadata": {},
   "source": [
    "# dataloader\n",
    "\n",
    "remember that we have 188 graphs"
   ]
  },
  {
   "cell_type": "code",
   "execution_count": 7,
   "id": "c5afbb35",
   "metadata": {},
   "outputs": [],
   "source": [
    "dataloader = DataLoader(dataset,batch_size=10)"
   ]
  },
  {
   "cell_type": "code",
   "execution_count": 8,
   "id": "dd3047a2",
   "metadata": {},
   "outputs": [
    {
     "data": {
      "text/plain": [
       "Data(x=[3371, 7], edge_index=[2, 7442], edge_attr=[7442, 4], y=[188])"
      ]
     },
     "execution_count": 8,
     "metadata": {},
     "output_type": "execute_result"
    }
   ],
   "source": [
    "dataloader.dataset.data"
   ]
  },
  {
   "cell_type": "code",
   "execution_count": 9,
   "id": "c8832286",
   "metadata": {},
   "outputs": [
    {
     "name": "stdout",
     "output_type": "stream",
     "text": [
      "DataBatch(edge_index=[2, 364], x=[166, 7], edge_attr=[364, 4], y=[10], batch=[166], ptr=[11])\n",
      "DataBatch(edge_index=[2, 384], x=[172, 7], edge_attr=[384, 4], y=[10], batch=[172], ptr=[11])\n",
      "DataBatch(edge_index=[2, 456], x=[201, 7], edge_attr=[456, 4], y=[10], batch=[201], ptr=[11])\n",
      "DataBatch(edge_index=[2, 374], x=[173, 7], edge_attr=[374, 4], y=[10], batch=[173], ptr=[11])\n",
      "DataBatch(edge_index=[2, 392], x=[176, 7], edge_attr=[392, 4], y=[10], batch=[176], ptr=[11])\n",
      "DataBatch(edge_index=[2, 468], x=[209, 7], edge_attr=[468, 4], y=[10], batch=[209], ptr=[11])\n",
      "DataBatch(edge_index=[2, 392], x=[179, 7], edge_attr=[392, 4], y=[10], batch=[179], ptr=[11])\n",
      "DataBatch(edge_index=[2, 392], x=[177, 7], edge_attr=[392, 4], y=[10], batch=[177], ptr=[11])\n",
      "DataBatch(edge_index=[2, 388], x=[174, 7], edge_attr=[388, 4], y=[10], batch=[174], ptr=[11])\n",
      "DataBatch(edge_index=[2, 432], x=[192, 7], edge_attr=[432, 4], y=[10], batch=[192], ptr=[11])\n",
      "DataBatch(edge_index=[2, 508], x=[224, 7], edge_attr=[508, 4], y=[10], batch=[224], ptr=[11])\n",
      "DataBatch(edge_index=[2, 332], x=[155, 7], edge_attr=[332, 4], y=[10], batch=[155], ptr=[11])\n",
      "DataBatch(edge_index=[2, 378], x=[174, 7], edge_attr=[378, 4], y=[10], batch=[174], ptr=[11])\n",
      "DataBatch(edge_index=[2, 360], x=[166, 7], edge_attr=[360, 4], y=[10], batch=[166], ptr=[11])\n",
      "DataBatch(edge_index=[2, 310], x=[146, 7], edge_attr=[310, 4], y=[10], batch=[146], ptr=[11])\n",
      "DataBatch(edge_index=[2, 354], x=[161, 7], edge_attr=[354, 4], y=[10], batch=[161], ptr=[11])\n",
      "DataBatch(edge_index=[2, 442], x=[199, 7], edge_attr=[442, 4], y=[10], batch=[199], ptr=[11])\n",
      "DataBatch(edge_index=[2, 428], x=[196, 7], edge_attr=[428, 4], y=[10], batch=[196], ptr=[11])\n",
      "DataBatch(edge_index=[2, 288], x=[131, 7], edge_attr=[288, 4], y=[8], batch=[131], ptr=[9])\n"
     ]
    }
   ],
   "source": [
    "for data in dataloader:\n",
    "    print(data)"
   ]
  },
  {
   "cell_type": "code",
   "execution_count": 10,
   "id": "f6da36d7",
   "metadata": {},
   "outputs": [
    {
     "data": {
      "text/plain": [
       "tensor([0, 0, 0, 0, 0, 0, 0, 0, 0, 0, 0, 1, 1, 1, 1, 1, 1, 1, 1, 1, 1, 1, 1, 1,\n",
       "        1, 2, 2, 2, 2, 2, 2, 2, 2, 2, 2, 2, 2, 2, 2, 2, 2, 2, 2, 2, 2, 2, 2, 3,\n",
       "        3, 3, 3, 3, 3, 3, 3, 3, 3, 3, 3, 3, 3, 3, 3, 3, 3, 3, 3, 3, 3, 4, 4, 4,\n",
       "        4, 4, 4, 4, 4, 4, 4, 4, 4, 4, 5, 5, 5, 5, 5, 5, 5, 5, 5, 5, 5, 5, 6, 6,\n",
       "        6, 6, 6, 6, 6, 6, 6, 6, 6, 6, 6, 6, 6, 6, 6, 6, 6, 6, 6, 7, 7, 7, 7, 7,\n",
       "        7, 7, 7, 7, 7, 7, 7, 7, 7, 7, 7])"
      ]
     },
     "execution_count": 10,
     "metadata": {},
     "output_type": "execute_result"
    }
   ],
   "source": [
    "data.batch"
   ]
  },
  {
   "cell_type": "code",
   "execution_count": 11,
   "id": "a172c3ac",
   "metadata": {},
   "outputs": [],
   "source": [
    "import numpy as np"
   ]
  },
  {
   "cell_type": "code",
   "execution_count": 12,
   "id": "0e944532",
   "metadata": {},
   "outputs": [
    {
     "name": "stdout",
     "output_type": "stream",
     "text": [
      "DataBatch(edge_index=[2, 7332], x=[3322, 7], edge_attr=[7332, 4], y=[185], batch=[3322], ptr=[186])\n",
      "DataBatch(edge_index=[2, 110], x=[49, 7], edge_attr=[110, 4], y=[3], batch=[49], ptr=[4])\n"
     ]
    },
    {
     "data": {
      "image/png": "[encoded data removed]",
      "text/plain": [
       "<Figure size 288x288 with 1 Axes>"
      ]
     },
     "metadata": {
      "needs_background": "light"
     },
     "output_type": "display_data"
    }
   ],
   "source": [
    "dataloader = DataLoader(dataset,batch_size=185)\n",
    "for data in dataloader:\n",
    "    print(data)\n",
    "    \n",
    "    \n",
    "import matplotlib.pyplot as plt\n",
    "from torch_geometric.utils import to_dense_adj\n",
    "\n",
    "\n",
    "adj = to_dense_adj(data.edge_index)[0]\n",
    "plt.matshow(adj)\n",
    "tmp = int(data.batch.unique(return_counts=True)[1][0])\n",
    "plt.scatter(np.ones(tmp)*tmp,np.arange(0,tmp),s=20,color=\"blue\")\n",
    "plt.scatter(np.arange(0,tmp),np.ones(tmp)*tmp,s=20,color=\"blue\")\n",
    "plt.show()"
   ]
  },
  {
   "cell_type": "markdown",
   "id": "be705cb9",
   "metadata": {},
   "source": [
    "# Bipartite Graphs\n",
    "\n",
    "Create a simple bypartite graphs"
   ]
  },
  {
   "cell_type": "code",
   "execution_count": 13,
   "id": "c66c1e9f",
   "metadata": {},
   "outputs": [],
   "source": [
    "import networkx as nx\n",
    "b1 = nx.algorithms.bipartite.generators.random_graph(2,3,0.6,seed=10)\n",
    "b2 = nx.algorithms.bipartite.generators.random_graph(2,3,0.6,seed=7)"
   ]
  },
  {
   "cell_type": "code",
   "execution_count": 14,
   "id": "e070d881",
   "metadata": {},
   "outputs": [
    {
     "data": {
      "image/png": "[encoded data removed]",
      "text/plain": [
       "<Figure size 720x288 with 2 Axes>"
      ]
     },
     "metadata": {},
     "output_type": "display_data"
    }
   ],
   "source": [
    "plt.figure(figsize=(10,4))\n",
    "plt.subplot(1,2,1)\n",
    "plt.title(\"bipartite 1\")\n",
    "X, Y = nx.algorithms.bipartite.sets(b1)\n",
    "pos = dict()\n",
    "pos.update( (n, (1, i)) for i, n in enumerate(X) ) # put nodes from X at x=1\n",
    "pos.update( (n, (2, i)) for i, n in enumerate(Y) ) # put nodes from Y at x=2\n",
    "nx.draw(b1, pos=pos,with_labels=True)\n",
    "\n",
    "plt.subplot(1,2,2)\n",
    "plt.title(\"bipartite 2\")\n",
    "X, Y = nx.algorithms.bipartite.sets(b2)\n",
    "pos = dict()\n",
    "pos.update( (n, (1, i)) for i, n in enumerate(X) ) # put nodes from X at x=1\n",
    "pos.update( (n, (2, i)) for i, n in enumerate(Y) ) # put nodes from Y at x=2\n",
    "nx.draw(b2, pos=pos,with_labels=True)\n",
    "plt.show()"
   ]
  },
  {
   "cell_type": "code",
   "execution_count": 15,
   "id": "4d976618",
   "metadata": {},
   "outputs": [
    {
     "data": {
      "text/plain": [
       "NodeDataView({0: {'bipartite': 0}, 1: {'bipartite': 0}, 2: {'bipartite': 1}, 3: {'bipartite': 1}, 4: {'bipartite': 1}})"
      ]
     },
     "execution_count": 15,
     "metadata": {},
     "output_type": "execute_result"
    }
   ],
   "source": [
    "b1.nodes(data=True)"
   ]
  },
  {
   "cell_type": "code",
   "execution_count": 16,
   "id": "1725114c",
   "metadata": {},
   "outputs": [
    {
     "name": "stdout",
     "output_type": "stream",
     "text": [
      "(5, 5)\n"
     ]
    },
    {
     "data": {
      "text/plain": [
       "array([[0, 0, 1, 1, 1],\n",
       "       [0, 0, 1, 0, 1],\n",
       "       [1, 1, 0, 0, 0],\n",
       "       [1, 0, 0, 0, 0],\n",
       "       [1, 1, 0, 0, 0]])"
      ]
     },
     "execution_count": 16,
     "metadata": {},
     "output_type": "execute_result"
    }
   ],
   "source": [
    "print(nx.adjacency_matrix(b1).A.shape)\n",
    "nx.adjacency_matrix(b1).A"
   ]
  },
  {
   "cell_type": "code",
   "execution_count": null,
   "id": "299e5546",
   "metadata": {},
   "outputs": [],
   "source": []
  },
  {
   "cell_type": "code",
   "execution_count": 17,
   "id": "cc226eb8",
   "metadata": {},
   "outputs": [
    {
     "data": {
      "text/plain": [
       "EdgeView([(0, 2), (0, 3), (0, 4), (1, 2), (1, 4)])"
      ]
     },
     "execution_count": 17,
     "metadata": {},
     "output_type": "execute_result"
    }
   ],
   "source": [
    "b1.edges()"
   ]
  },
  {
   "cell_type": "code",
   "execution_count": 18,
   "id": "e4447e51",
   "metadata": {},
   "outputs": [
    {
     "data": {
      "text/plain": [
       "array([[0, 0, 0, 1, 1],\n",
       "       [0, 1, 2, 0, 2]])"
      ]
     },
     "execution_count": 18,
     "metadata": {},
     "output_type": "execute_result"
    }
   ],
   "source": [
    "edge_list_b1 = np.array(list(nx.edges(b1)))\n",
    "edge_list_b1 = np.array([[a,b-(1+np.max(edge_list_b1[:,0]))] for a,b in edge_list_b1])\n",
    "edge_list_b1 = edge_list_b1.T\n",
    "\n",
    "edge_list_b1"
   ]
  },
  {
   "cell_type": "code",
   "execution_count": 19,
   "id": "ece86f59",
   "metadata": {},
   "outputs": [
    {
     "data": {
      "text/plain": [
       "array([[0, 0, 1, 1, 1],\n",
       "       [0, 1, 0, 1, 2]])"
      ]
     },
     "execution_count": 19,
     "metadata": {},
     "output_type": "execute_result"
    }
   ],
   "source": [
    "edge_list_b2 = np.array(list(nx.edges(b2)))\n",
    "edge_list_b2 = np.array([[a,b-(1+np.max(edge_list_b2[:,0]))] for a,b in edge_list_b2])\n",
    "edge_list_b2 = edge_list_b2.T\n",
    "\n",
    "edge_list_b2"
   ]
  },
  {
   "cell_type": "code",
   "execution_count": 20,
   "id": "0a88c4dd",
   "metadata": {},
   "outputs": [],
   "source": [
    "from torch_geometric.data import Data\n",
    "\n",
    "class BipartiteData(Data):\n",
    "    def __init__(self, edge_index=None, x_s=None, x_t=None):\n",
    "        super().__init__()\n",
    "        self.edge_index = edge_index\n",
    "        self.x_s = x_s\n",
    "        self.x_t = x_t\n",
    "        \n",
    "    def __inc__(self, key, value, *args, **kwargs):\n",
    "        if key == 'edge_index':\n",
    "            return torch.tensor([[self.x_s.size(0)], [self.x_t.size(0)]])\n",
    "        else:\n",
    "            return super().__inc__(key, value, *args, **kwargs)"
   ]
  },
  {
   "cell_type": "code",
   "execution_count": 21,
   "id": "f7413dcb",
   "metadata": {},
   "outputs": [],
   "source": [
    "from torch_geometric.loader import DataLoader\n",
    "\n",
    "edge_index_b1 = torch.tensor([edge_list_b1])\n",
    "x_s = torch.randn(2, 16)  # 2 nodes.\n",
    "x_t = torch.randn(3, 16)  # 3 nodes.\n",
    "data_graph1 = BipartiteData(edge_index_b1, x_s, x_t)\n",
    "data_graph1.num_nodes=5\n",
    "\n",
    "\n",
    "edge_index_b2 = torch.tensor([edge_list_b2])\n",
    "x_s = torch.randn(2, 16)  # 2 nodes.\n",
    "x_t = torch.randn(3, 16)  # 3 nodes.\n",
    "data_graph2 = BipartiteData(edge_index_b2, x_s, x_t)\n",
    "data_graph2.num_nodes=5"
   ]
  },
  {
   "cell_type": "code",
   "execution_count": 22,
   "id": "723f8254",
   "metadata": {},
   "outputs": [
    {
     "name": "stdout",
     "output_type": "stream",
     "text": [
      "BipartiteDataBatch(edge_index=[1, 2, 10], x_s=[4, 16], x_t=[6, 16], num_nodes=10, batch=[10], ptr=[3])\n",
      "tensor([[[0, 0, 0, 1, 1, 2, 2, 3, 3, 3],\n",
      "         [0, 1, 2, 0, 2, 3, 4, 3, 4, 5]]])\n"
     ]
    }
   ],
   "source": [
    "data_list = [data_graph1, data_graph2]\n",
    "loader = DataLoader(data_list, batch_size=2)\n",
    "batch = next(iter(loader))\n",
    "\n",
    "print(batch)\n",
    "\n",
    "print(batch.edge_index)"
   ]
  },
  {
   "cell_type": "code",
   "execution_count": null,
   "id": "f8a9b9e1",
   "metadata": {},
   "outputs": [],
   "source": []
  }
 ],
 "metadata": {
  "kernelspec": {
   "display_name": "Python 3 (ipykernel)",
   "language": "python",
   "name": "python3"
  },
  "language_info": {
   "codemirror_mode": {
    "name": "ipython",
    "version": 3
   },
   "file_extension": ".py",
   "mimetype": "text/x-python",
   "name": "python",
   "nbconvert_exporter": "python",
   "pygments_lexer": "ipython3",
   "version": "3.9.7"
  }
 },
 "nbformat": 4,
 "nbformat_minor": 5
}
