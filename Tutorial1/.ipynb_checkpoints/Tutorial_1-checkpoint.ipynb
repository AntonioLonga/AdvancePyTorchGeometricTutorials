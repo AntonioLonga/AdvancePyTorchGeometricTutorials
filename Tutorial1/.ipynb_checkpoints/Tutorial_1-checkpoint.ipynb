{
 "cells": [
  {
   "cell_type": "markdown",
   "id": "04c6a537",
   "metadata": {},
   "source": [
    "# Advance PyTorch Geometric Tutorial\n",
    "## Tutorial 1\n",
    "#### Antonio Longa, 15 Nov 2021\n",
    "\n",
    "# Open Graph Benchmark and PyG\n",
    "original [code](https://github.com/snap-stanford/ogb/tree/master/examples/nodeproppred/arxiv) made by Matthias Fey"
   ]
  },
  {
   "cell_type": "code",
   "execution_count": null,
   "id": "5924f9e4",
   "metadata": {},
   "outputs": [],
   "source": [
    "!pip install -q torch-scatter -f https://data.pyg.org/whl/torch-1.10.0+cu113.html\n",
    "!pip install -q torch-sparse -f https://data.pyg.org/whl/torch-1.10.0+cu113.html\n",
    "!pip install -q git+https://github.com/pyg-team/pytorch_geometric.git"
   ]
  },
  {
   "cell_type": "code",
   "execution_count": 1,
   "id": "7f6a619f",
   "metadata": {},
   "outputs": [],
   "source": [
    "# import libraries \n",
    "import torch\n",
    "import torch.nn.functional as F\n",
    "\n",
    "import torch_geometric.transforms as T\n",
    "from torch_geometric.nn import GCNConv, SAGEConv\n"
   ]
  },
  {
   "cell_type": "code",
   "execution_count": 2,
   "id": "a384a3b5",
   "metadata": {},
   "outputs": [],
   "source": [
    "# define GCN\n",
    "class GCN(torch.nn.Module):\n",
    "    def __init__(self, in_channels, hidden_channels, out_channels, num_layers,\n",
    "                 dropout):\n",
    "        super(GCN, self).__init__()\n",
    "\n",
    "        self.convs = torch.nn.ModuleList()\n",
    "        self.convs.append(GCNConv(in_channels, hidden_channels, cached=True))\n",
    "        self.bns = torch.nn.ModuleList()\n",
    "        self.bns.append(torch.nn.BatchNorm1d(hidden_channels))\n",
    "        for _ in range(num_layers - 2):\n",
    "            self.convs.append(\n",
    "                GCNConv(hidden_channels, hidden_channels, cached=True))\n",
    "            self.bns.append(torch.nn.BatchNorm1d(hidden_channels))\n",
    "        self.convs.append(GCNConv(hidden_channels, out_channels, cached=True))\n",
    "\n",
    "        self.dropout = dropout\n",
    "\n",
    "    def reset_parameters(self):\n",
    "        for conv in self.convs:\n",
    "            conv.reset_parameters()\n",
    "        for bn in self.bns:\n",
    "            bn.reset_parameters()\n",
    "\n",
    "    def forward(self, x, adj_t):\n",
    "        for i, conv in enumerate(self.convs[:-1]):\n",
    "            x = conv(x, adj_t)\n",
    "            x = self.bns[i](x)\n",
    "            x = F.relu(x)\n",
    "            x = F.dropout(x, p=self.dropout, training=self.training)\n",
    "        x = self.convs[-1](x, adj_t)\n",
    "        return x.log_softmax(dim=-1)"
   ]
  },
  {
   "cell_type": "code",
   "execution_count": 3,
   "id": "5e1871e5",
   "metadata": {},
   "outputs": [],
   "source": [
    "#Define train and test\n",
    "def train(model, data, train_idx, optimizer):\n",
    "    model.train()\n",
    "\n",
    "    optimizer.zero_grad()\n",
    "    out = model(data.x, data.adj_t)[train_idx]\n",
    "    loss = F.nll_loss(out, data.y.squeeze(1)[train_idx])\n",
    "    loss.backward()\n",
    "    optimizer.step()\n",
    "\n",
    "    return loss.item()\n",
    "\n",
    "\n",
    "\n",
    "\n",
    "@torch.no_grad()\n",
    "def test(model, data, split_idx, evaluator):\n",
    "    model.eval()\n",
    "\n",
    "    out = model(data.x, data.adj_t)\n",
    "    y_pred = out.argmax(dim=-1, keepdim=True)\n",
    "    \n",
    "    # update the evaluator\n",
    "    train_acc = evaluator.eval({'y_true': data.y[split_idx['train']],\n",
    "                                'y_pred': y_pred[split_idx['train']],\n",
    "                               })['acc']\n",
    "    valid_acc = evaluator.eval({'y_true': data.y[split_idx['valid']],\n",
    "                                'y_pred': y_pred[split_idx['valid']],\n",
    "                               })['acc']\n",
    "    test_acc = evaluator.eval({'y_true': data.y[split_idx['test']],\n",
    "                               'y_pred': y_pred[split_idx['test']],\n",
    "                              })['acc']\n",
    "\n",
    "    return train_acc, valid_acc, test_acc"
   ]
  },
  {
   "cell_type": "code",
   "execution_count": 4,
   "id": "b47a4f29",
   "metadata": {},
   "outputs": [],
   "source": [
    "# define the device\n",
    "device = 'cuda' if torch.cuda.is_available() else 'cpu'\n",
    "device = torch.device(device)"
   ]
  },
  {
   "cell_type": "markdown",
   "id": "733a6482",
   "metadata": {},
   "source": [
    "### OGB get the dataset"
   ]
  },
  {
   "cell_type": "code",
   "execution_count": 5,
   "id": "75e4cafb",
   "metadata": {},
   "outputs": [],
   "source": [
    "#From node property prediction import :\n",
    "from ogb.nodeproppred import PygNodePropPredDataset, Evaluator\n",
    "\n",
    "\n",
    "# download the dataset\n",
    "dataset = PygNodePropPredDataset(name='ogbn-arxiv',transform=T.ToSparseTensor())\n",
    "# I have already downloaded the dataset, so it is loaded from my pc"
   ]
  },
  {
   "cell_type": "code",
   "execution_count": 6,
   "id": "2b16cb31",
   "metadata": {},
   "outputs": [],
   "source": [
    "data = dataset[0]\n",
    "data.adj_t = data.adj_t.to_symmetric()\n",
    "data = data.to(device) # move the data to the device"
   ]
  },
  {
   "cell_type": "code",
   "execution_count": 7,
   "id": "32d870d3",
   "metadata": {},
   "outputs": [
    {
     "data": {
      "text/plain": [
       "Data(x=[169343, 128], node_year=[169343, 1], y=[169343, 1], adj_t=[169343, 169343, nnz=2315598])"
      ]
     },
     "execution_count": 7,
     "metadata": {},
     "output_type": "execute_result"
    }
   ],
   "source": [
    "# it is a Data object for PyG\n",
    "data"
   ]
  },
  {
   "cell_type": "markdown",
   "id": "9598e069",
   "metadata": {},
   "source": [
    "### PygNodePropPredDataset allows to get datasets.\n",
    "### Are there other datasets? (for node property predictions)"
   ]
  },
  {
   "cell_type": "code",
   "execution_count": 8,
   "id": "f4c3f469",
   "metadata": {},
   "outputs": [
    {
     "ename": "ValueError",
     "evalue": "Invalid dataset name ogbn.\nAvailable datasets are as follows:\nogbn-proteins\nogbn-products\nogbn-arxiv\nogbn-mag\nogbn-papers100M",
     "output_type": "error",
     "traceback": [
      "\u001b[0;31m---------------------------------------------------------------------------\u001b[0m",
      "\u001b[0;31mValueError\u001b[0m                                Traceback (most recent call last)",
      "\u001b[0;32m/tmp/ipykernel_42615/4121643198.py\u001b[0m in \u001b[0;36m<module>\u001b[0;34m\u001b[0m\n\u001b[0;32m----> 1\u001b[0;31m \u001b[0mdataset2\u001b[0m \u001b[0;34m=\u001b[0m \u001b[0mPygNodePropPredDataset\u001b[0m\u001b[0;34m(\u001b[0m\u001b[0mname\u001b[0m\u001b[0;34m=\u001b[0m\u001b[0;34m'ogbn'\u001b[0m\u001b[0;34m)\u001b[0m\u001b[0;34m\u001b[0m\u001b[0;34m\u001b[0m\u001b[0m\n\u001b[0m",
      "\u001b[0;32m~/anaconda3/envs/geometric/lib/python3.9/site-packages/ogb/nodeproppred/dataset_pyg.py\u001b[0m in \u001b[0;36m__init__\u001b[0;34m(self, name, root, transform, pre_transform, meta_dict)\u001b[0m\n\u001b[1;32m     38\u001b[0m                 \u001b[0merror_mssg\u001b[0m \u001b[0;34m+=\u001b[0m \u001b[0;34m'Available datasets are as follows:\\n'\u001b[0m\u001b[0;34m\u001b[0m\u001b[0;34m\u001b[0m\u001b[0m\n\u001b[1;32m     39\u001b[0m                 \u001b[0merror_mssg\u001b[0m \u001b[0;34m+=\u001b[0m \u001b[0;34m'\\n'\u001b[0m\u001b[0;34m.\u001b[0m\u001b[0mjoin\u001b[0m\u001b[0;34m(\u001b[0m\u001b[0mmaster\u001b[0m\u001b[0;34m.\u001b[0m\u001b[0mkeys\u001b[0m\u001b[0;34m(\u001b[0m\u001b[0;34m)\u001b[0m\u001b[0;34m)\u001b[0m\u001b[0;34m\u001b[0m\u001b[0;34m\u001b[0m\u001b[0m\n\u001b[0;32m---> 40\u001b[0;31m                 \u001b[0;32mraise\u001b[0m \u001b[0mValueError\u001b[0m\u001b[0;34m(\u001b[0m\u001b[0merror_mssg\u001b[0m\u001b[0;34m)\u001b[0m\u001b[0;34m\u001b[0m\u001b[0;34m\u001b[0m\u001b[0m\n\u001b[0m\u001b[1;32m     41\u001b[0m             \u001b[0mself\u001b[0m\u001b[0;34m.\u001b[0m\u001b[0mmeta_info\u001b[0m \u001b[0;34m=\u001b[0m \u001b[0mmaster\u001b[0m\u001b[0;34m[\u001b[0m\u001b[0mself\u001b[0m\u001b[0;34m.\u001b[0m\u001b[0mname\u001b[0m\u001b[0;34m]\u001b[0m\u001b[0;34m\u001b[0m\u001b[0;34m\u001b[0m\u001b[0m\n\u001b[1;32m     42\u001b[0m \u001b[0;34m\u001b[0m\u001b[0m\n",
      "\u001b[0;31mValueError\u001b[0m: Invalid dataset name ogbn.\nAvailable datasets are as follows:\nogbn-proteins\nogbn-products\nogbn-arxiv\nogbn-mag\nogbn-papers100M"
     ]
    }
   ],
   "source": [
    "dataset2 = PygNodePropPredDataset(name='ogbn')"
   ]
  },
  {
   "cell_type": "markdown",
   "id": "2572367a",
   "metadata": {},
   "source": [
    "# Instanciate the GNN"
   ]
  },
  {
   "cell_type": "code",
   "execution_count": 9,
   "id": "b079836f",
   "metadata": {},
   "outputs": [],
   "source": [
    "hidden_channels = 64\n",
    "num_layers = 2\n",
    "dropout = 0.5 \n",
    "epochs = 50\n",
    "print_steps = 1\n",
    "\n",
    "\n",
    "split_idx = dataset.get_idx_split()\n",
    "train_idx = split_idx['train'].to(device)\n",
    "\n",
    "model = GCN(data.num_features, hidden_channels,\n",
    "            dataset.num_classes, num_layers,\n",
    "            dropout).to(device)"
   ]
  },
  {
   "cell_type": "markdown",
   "id": "206f2972",
   "metadata": {},
   "source": [
    "# Evaluator"
   ]
  },
  {
   "cell_type": "code",
   "execution_count": 10,
   "id": "f2ccadfe",
   "metadata": {},
   "outputs": [
    {
     "data": {
      "text/plain": [
       "<ogb.nodeproppred.evaluate.Evaluator at 0x7f410e6ef430>"
      ]
     },
     "execution_count": 10,
     "metadata": {},
     "output_type": "execute_result"
    }
   ],
   "source": [
    "evaluator = Evaluator(name='ogbn-arxiv')\n",
    "\n",
    "evaluator"
   ]
  },
  {
   "cell_type": "code",
   "execution_count": 11,
   "id": "71a240c9",
   "metadata": {},
   "outputs": [
    {
     "data": {
      "text/plain": [
       "\"==== Expected input format of Evaluator for ogbn-arxiv\\n{'y_true': y_true, 'y_pred': y_pred}\\n- y_true: numpy ndarray or torch tensor of shape (num_node, num_task)\\n- y_pred: numpy ndarray or torch tensor of shape (num_node, num_task)\\nwhere y_pred stores predicted class label (integer),\\nnum_task is 1, and each row corresponds to one node.\\n\""
      ]
     },
     "execution_count": 11,
     "metadata": {},
     "output_type": "execute_result"
    }
   ],
   "source": [
    "evaluator.expected_input_format"
   ]
  },
  {
   "cell_type": "raw",
   "id": "6ab865ab",
   "metadata": {},
   "source": [
    "def test(...):\n",
    "    ....\n",
    "    ....\n",
    "    # update the evaluator\n",
    "    train_acc = evaluator.eval({'y_true': data.y[split_idx['train']],\n",
    "                                'y_pred': y_pred[split_idx['train']],\n",
    "                               })['acc']\n",
    "    ...\n",
    "    ..."
   ]
  },
  {
   "cell_type": "markdown",
   "id": "2d81c6c8",
   "metadata": {},
   "source": [
    "### NOTE:\n",
    "we have different evaluators for node property predictions, graphs predictions and link predictions"
   ]
  },
  {
   "cell_type": "code",
   "execution_count": 12,
   "id": "1e67ba9e",
   "metadata": {},
   "outputs": [
    {
     "data": {
      "text/plain": [
       "\"==== Expected input format of Evaluator for ogbl-ppa\\n{'y_pred_pos': y_pred_pos, 'y_pred_neg': y_pred_neg}\\n- y_pred_pos: numpy ndarray or torch tensor of shape (num_edge, ). Torch tensor on GPU is recommended for efficiency.\\n- y_pred_neg: numpy ndarray or torch tensor of shape (num_edge, ). Torch tensor on GPU is recommended for efficiency.\\ny_pred_pos is the predicted scores for positive edges.\\ny_pred_neg is the predicted scores for negative edges.\\nNote: As the evaluation metric is ranking-based, the predicted scores need to be different for different edges.\""
      ]
     },
     "execution_count": 12,
     "metadata": {},
     "output_type": "execute_result"
    }
   ],
   "source": [
    "# link property prediction\n",
    "from ogb.linkproppred import Evaluator as ev\n",
    "ev(name='ogbl-ppa').expected_input_format"
   ]
  },
  {
   "cell_type": "code",
   "execution_count": 13,
   "id": "90e48cd6",
   "metadata": {},
   "outputs": [
    {
     "data": {
      "text/plain": [
       "\"==== Expected input format of Evaluator for ogbg-molesol\\n{'y_true': y_true, 'y_pred': y_pred}\\n- y_true: numpy ndarray or torch tensor of shape (num_graph, num_task)\\n- y_pred: numpy ndarray or torch tensor of shape (num_graph, num_task)\\nwhere num_task is 1, and each row corresponds to one graph.\\nnan values in y_true are ignored during evaluation.\\n\""
      ]
     },
     "execution_count": 13,
     "metadata": {},
     "output_type": "execute_result"
    }
   ],
   "source": [
    "# link property prediction\n",
    "from ogb.graphproppred import Evaluator as ev\n",
    "ev(name='ogbg-molesol').expected_input_format"
   ]
  },
  {
   "cell_type": "markdown",
   "id": "eeadf291",
   "metadata": {},
   "source": [
    "### END NOTE."
   ]
  },
  {
   "cell_type": "markdown",
   "id": "36fae77f",
   "metadata": {},
   "source": [
    "## Train as usual "
   ]
  },
  {
   "cell_type": "code",
   "execution_count": 14,
   "id": "c2980694",
   "metadata": {},
   "outputs": [
    {
     "name": "stdout",
     "output_type": "stream",
     "text": [
      "Epoch: 01, Loss: 4.0065, Train: 1.10%, Valid: 1.27% Test: 1.28%\n",
      "Epoch: 02, Loss: 3.9284, Train: 1.17%, Valid: 1.25% Test: 1.28%\n",
      "Epoch: 03, Loss: 3.8547, Train: 1.33%, Valid: 1.30% Test: 1.33%\n",
      "Epoch: 04, Loss: 3.7865, Train: 1.70%, Valid: 1.59% Test: 1.44%\n",
      "Epoch: 05, Loss: 3.7158, Train: 2.80%, Valid: 2.93% Test: 2.33%\n",
      "Epoch: 06, Loss: 3.6484, Train: 6.31%, Valid: 8.72% Test: 7.39%\n",
      "Epoch: 07, Loss: 3.5848, Train: 12.43%, Valid: 18.81% Test: 17.81%\n",
      "Epoch: 08, Loss: 3.5141, Train: 18.55%, Valid: 24.67% Test: 23.28%\n",
      "Epoch: 09, Loss: 3.4507, Train: 23.94%, Valid: 27.29% Test: 25.27%\n",
      "Epoch: 10, Loss: 3.3944, Train: 27.48%, Valid: 29.07% Test: 26.61%\n",
      "Epoch: 11, Loss: 3.3339, Train: 29.01%, Valid: 29.79% Test: 27.28%\n",
      "Epoch: 12, Loss: 3.2731, Train: 29.39%, Valid: 29.95% Test: 27.55%\n",
      "Epoch: 13, Loss: 3.2197, Train: 29.20%, Valid: 29.75% Test: 27.58%\n",
      "Epoch: 14, Loss: 3.1723, Train: 28.79%, Valid: 29.42% Test: 27.40%\n",
      "Epoch: 15, Loss: 3.1161, Train: 28.38%, Valid: 29.22% Test: 27.28%\n",
      "Epoch: 16, Loss: 3.0753, Train: 28.06%, Valid: 29.06% Test: 27.24%\n",
      "Epoch: 17, Loss: 3.0278, Train: 27.85%, Valid: 28.87% Test: 27.39%\n",
      "Epoch: 18, Loss: 2.9799, Train: 27.78%, Valid: 29.08% Test: 27.48%\n",
      "Epoch: 19, Loss: 2.9399, Train: 27.83%, Valid: 29.39% Test: 27.93%\n",
      "Epoch: 20, Loss: 2.8986, Train: 28.00%, Valid: 29.84% Test: 28.47%\n",
      "Epoch: 21, Loss: 2.8578, Train: 28.23%, Valid: 30.39% Test: 29.13%\n",
      "Epoch: 22, Loss: 2.8209, Train: 28.64%, Valid: 30.98% Test: 29.97%\n",
      "Epoch: 23, Loss: 2.7833, Train: 29.06%, Valid: 31.83% Test: 30.69%\n",
      "Epoch: 24, Loss: 2.7438, Train: 29.68%, Valid: 32.75% Test: 31.41%\n",
      "Epoch: 25, Loss: 2.7254, Train: 30.47%, Valid: 33.75% Test: 32.22%\n",
      "Epoch: 26, Loss: 2.6822, Train: 31.34%, Valid: 34.93% Test: 33.10%\n",
      "Epoch: 27, Loss: 2.6591, Train: 32.42%, Valid: 36.15% Test: 34.08%\n",
      "Epoch: 28, Loss: 2.6304, Train: 33.62%, Valid: 37.32% Test: 35.06%\n",
      "Epoch: 29, Loss: 2.6021, Train: 34.80%, Valid: 38.67% Test: 35.97%\n",
      "Epoch: 30, Loss: 2.5817, Train: 36.11%, Valid: 39.82% Test: 36.92%\n",
      "Epoch: 31, Loss: 2.5534, Train: 37.36%, Valid: 40.80% Test: 37.85%\n",
      "Epoch: 32, Loss: 2.5279, Train: 38.58%, Valid: 41.68% Test: 38.66%\n",
      "Epoch: 33, Loss: 2.5041, Train: 39.70%, Valid: 42.40% Test: 39.34%\n",
      "Epoch: 34, Loss: 2.4783, Train: 40.72%, Valid: 42.81% Test: 39.90%\n",
      "Epoch: 35, Loss: 2.4597, Train: 41.52%, Valid: 43.41% Test: 40.41%\n",
      "Epoch: 36, Loss: 2.4363, Train: 42.19%, Valid: 43.69% Test: 40.92%\n",
      "Epoch: 37, Loss: 2.4173, Train: 42.80%, Valid: 43.95% Test: 41.28%\n",
      "Epoch: 38, Loss: 2.3950, Train: 43.23%, Valid: 44.37% Test: 41.62%\n",
      "Epoch: 39, Loss: 2.3707, Train: 43.63%, Valid: 44.57% Test: 41.98%\n",
      "Epoch: 40, Loss: 2.3492, Train: 43.93%, Valid: 44.85% Test: 42.38%\n",
      "Epoch: 41, Loss: 2.3340, Train: 44.25%, Valid: 45.04% Test: 42.74%\n",
      "Epoch: 42, Loss: 2.3154, Train: 44.55%, Valid: 45.27% Test: 43.13%\n",
      "Epoch: 43, Loss: 2.2999, Train: 44.84%, Valid: 45.65% Test: 43.47%\n",
      "Epoch: 44, Loss: 2.2766, Train: 45.15%, Valid: 45.89% Test: 43.80%\n",
      "Epoch: 45, Loss: 2.2639, Train: 45.42%, Valid: 46.16% Test: 44.05%\n",
      "Epoch: 46, Loss: 2.2423, Train: 45.67%, Valid: 46.44% Test: 44.30%\n",
      "Epoch: 47, Loss: 2.2353, Train: 45.95%, Valid: 46.69% Test: 44.53%\n",
      "Epoch: 48, Loss: 2.2149, Train: 46.18%, Valid: 47.08% Test: 44.73%\n",
      "Epoch: 49, Loss: 2.1950, Train: 46.41%, Valid: 47.48% Test: 45.05%\n",
      "Epoch: 50, Loss: 2.1822, Train: 46.69%, Valid: 47.90% Test: 45.42%\n"
     ]
    }
   ],
   "source": [
    "optimizer = torch.optim.Adam(model.parameters(), lr=0.001)\n",
    "for epoch in range(1, 1 + epochs):\n",
    "    loss = train(model, data, train_idx, optimizer)\n",
    "    result = test(model, data, split_idx, evaluator)\n",
    "\n",
    "    if epoch % print_steps == 0:\n",
    "        train_acc, valid_acc, test_acc = result\n",
    "        print(f'Epoch: {epoch:02d}, '\n",
    "              f'Loss: {loss:.4f}, '\n",
    "              f'Train: {100 * train_acc:.2f}%, '\n",
    "              f'Valid: {100 * valid_acc:.2f}% '\n",
    "              f'Test: {100 * test_acc:.2f}%')\n"
   ]
  },
  {
   "cell_type": "code",
   "execution_count": null,
   "id": "f8a9b9e1",
   "metadata": {},
   "outputs": [],
   "source": []
  }
 ],
 "metadata": {
  "kernelspec": {
   "display_name": "Python 3 (ipykernel)",
   "language": "python",
   "name": "python3"
  },
  "language_info": {
   "codemirror_mode": {
    "name": "ipython",
    "version": 3
   },
   "file_extension": ".py",
   "mimetype": "text/x-python",
   "name": "python",
   "nbconvert_exporter": "python",
   "pygments_lexer": "ipython3",
   "version": "3.9.7"
  }
 },
 "nbformat": 4,
 "nbformat_minor": 5
}
