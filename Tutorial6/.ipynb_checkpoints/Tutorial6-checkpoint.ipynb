{
 "cells": [
  {
   "cell_type": "markdown",
   "metadata": {},
   "source": [
    "# Tutorial6: Memory-efficient aggregations"
   ]
  },
  {
   "cell_type": "code",
   "execution_count": null,
   "metadata": {},
   "outputs": [],
   "source": [
    "!pip install -q torch-scatter -f https://data.pyg.org/whl/torch-1.10.0+cu113.html\n",
    "!pip install -q torch-sparse -f https://data.pyg.org/whl/torch-1.10.0+cu113.html\n",
    "!pip install -q git+https://github.com/pyg-team/pytorch_geometric.git"
   ]
  },
  {
   "cell_type": "markdown",
   "metadata": {},
   "source": [
    "## Outline"
   ]
  },
  {
   "cell_type": "markdown",
   "metadata": {},
   "source": [
    "- Representation of sparse matrices\n",
    "- The `SparseTensor` class\n",
    "- Use of `SparseTensor` in PyG"
   ]
  },
  {
   "cell_type": "markdown",
   "metadata": {},
   "source": [
    "Official resources:\n",
    "* [PyG documentation](https://pytorch-geometric.readthedocs.io/en/latest/notes/sparse_tensor.html)"
   ]
  },
  {
   "cell_type": "markdown",
   "metadata": {},
   "source": [
    "### Imports"
   ]
  },
  {
   "cell_type": "code",
   "execution_count": null,
   "metadata": {},
   "outputs": [],
   "source": [
    "import matplotlib.pyplot as plt\n",
    "plt.rcParams.update({'font.size': 16})"
   ]
  },
  {
   "cell_type": "markdown",
   "metadata": {},
   "source": [
    "## Representation of sparse matrices"
   ]
  },
  {
   "cell_type": "markdown",
   "metadata": {},
   "source": [
    "See [Scipy sparse](https://docs.scipy.org/doc/scipy/reference/sparse.html)"
   ]
  },
  {
   "cell_type": "markdown",
   "metadata": {},
   "source": [
    "### A sparse matrix"
   ]
  },
  {
   "cell_type": "code",
   "execution_count": null,
   "metadata": {},
   "outputs": [],
   "source": [
    "import numpy as np\n",
    "n = 5\n",
    "row = [2, 1, 4, 0, 2, 4]\n",
    "col = [2, 2, 1, 3, 1, 0] \n",
    "data = [1, 2, 3, 4, 5, 6]\n",
    "A = np.zeros((n, n))\n",
    "A[row, col] = data\n",
    "A"
   ]
  },
  {
   "cell_type": "markdown",
   "metadata": {},
   "source": [
    "### `coo` format (coordinate format)"
   ]
  },
  {
   "cell_type": "markdown",
   "metadata": {},
   "source": [
    "**Good:** Easy construction and conversion to different formats\n",
    "\n",
    "**Bad:** Arithmetic operations, slicing"
   ]
  },
  {
   "cell_type": "code",
   "execution_count": null,
   "metadata": {},
   "outputs": [],
   "source": [
    "from scipy.sparse import coo_matrix\n",
    "A_coo = coo_matrix((data, (row, col)), shape=(n, n))\n",
    "A_coo"
   ]
  },
  {
   "cell_type": "code",
   "execution_count": null,
   "metadata": {},
   "outputs": [],
   "source": [
    "A_coo.toarray()"
   ]
  },
  {
   "cell_type": "code",
   "execution_count": null,
   "metadata": {},
   "outputs": [],
   "source": [
    "A_coo.todense()"
   ]
  },
  {
   "cell_type": "code",
   "execution_count": null,
   "metadata": {},
   "outputs": [],
   "source": [
    "A_coo_from_dense = coo_matrix(A)\n",
    "A_coo_from_dense.toarray()"
   ]
  },
  {
   "cell_type": "markdown",
   "metadata": {},
   "source": [
    "### `csr` format (compressed sparse row format)"
   ]
  },
  {
   "cell_type": "markdown",
   "metadata": {},
   "source": [
    "**Good:** Fast entry-wise arithmetic operations, efficient row slicing, fast matrix-vector products\n",
    "\n",
    "**Bad:** Slow column slicing, expensive changes of the sparsity pattern"
   ]
  },
  {
   "cell_type": "code",
   "execution_count": null,
   "metadata": {},
   "outputs": [],
   "source": [
    "from scipy.sparse import csr_matrix\n",
    "A"
   ]
  },
  {
   "cell_type": "code",
   "execution_count": null,
   "metadata": {},
   "outputs": [],
   "source": [
    "# Column indices, sorted according to the row\n",
    "indices = [3,      # indices of the non zero column in the row 0\n",
    "           2,      # indices of the non zero column in the row 1\n",
    "           1, 2,   # indices of the non zero column in the row 2\n",
    "                   # indices of the non zero column in the row 3\n",
    "           0, 1]   # indices of the non zero column in the row 4"
   ]
  },
  {
   "cell_type": "code",
   "execution_count": null,
   "metadata": {},
   "outputs": [],
   "source": [
    "# Data sorted in the same order\n",
    "data = [4,\n",
    "        2, \n",
    "        5, 1, \n",
    "        \n",
    "        6, 3]"
   ]
  },
  {
   "cell_type": "code",
   "execution_count": null,
   "metadata": {},
   "outputs": [],
   "source": [
    "# Position of the column indices for each row\n",
    "indptr = [0,       # Always start from 0\n",
    "          1,       # Row 0: the column idx are in position 0:1\n",
    "          2,       # Row 1: the column idx are in position 1:2\n",
    "          4,       # Row 2: the column idx are in position 2:4\n",
    "          4,       # Row 3: the column idx are in position 4:4 (no values)\n",
    "          6]       # Row 4: the column idx are in position 4:6   "
   ]
  },
  {
   "cell_type": "code",
   "execution_count": null,
   "metadata": {},
   "outputs": [],
   "source": [
    "A_csr = csr_matrix((data, indices, indptr), shape=(n, n))\n",
    "A_csr"
   ]
  },
  {
   "cell_type": "code",
   "execution_count": null,
   "metadata": {},
   "outputs": [],
   "source": [
    "A_csr.toarray()"
   ]
  },
  {
   "cell_type": "markdown",
   "metadata": {},
   "source": [
    "### `csc` format (compressed sparse column format)\n",
    "\n",
    "**Good:** Fast entry-wise arithmetic operations, efficient column slicing, ok matrix-vector products (csr is usually faster)\n",
    "\n",
    "**Bad:** Slow row slicing, expensive changes of the sparsity pattern"
   ]
  },
  {
   "cell_type": "code",
   "execution_count": null,
   "metadata": {},
   "outputs": [],
   "source": [
    "from scipy.sparse import csc_matrix\n",
    "A"
   ]
  },
  {
   "cell_type": "code",
   "execution_count": null,
   "metadata": {},
   "outputs": [],
   "source": [
    "# Row indices, sorted according to the column\n",
    "indices = [4,      # indices of the non zero column in the column 0\n",
    "           2, 4,   # indices of the non zero column in the column 1\n",
    "           1, 2,   # indices of the non zero column in the column 2\n",
    "           0,      # indices of the non zero column in the column 4  \n",
    "           ]       # indices of the non zero column in the column 5"
   ]
  },
  {
   "cell_type": "code",
   "execution_count": null,
   "metadata": {},
   "outputs": [],
   "source": [
    "# Data sorted in the same order\n",
    "data = [6,\n",
    "        5, 3, \n",
    "        2, 1, \n",
    "        4, \n",
    "        ]"
   ]
  },
  {
   "cell_type": "code",
   "execution_count": null,
   "metadata": {},
   "outputs": [],
   "source": [
    "# Position of the row indices for each column\n",
    "indptr = [0,       # Always start from 0\n",
    "          1,       # Column 0: the row idx are in position 0:1\n",
    "          3,       # Column 1: the row idx are in position 1:3\n",
    "          5,       # Column 2: the row idx are in position 3:5\n",
    "          6,       # Column 3: the row idx are in position 5:6 (no values)\n",
    "          6]       # Column 4: the row idx are in position 6:6 (no values)"
   ]
  },
  {
   "cell_type": "code",
   "execution_count": null,
   "metadata": {},
   "outputs": [],
   "source": [
    "A_csc = csc_matrix((data, indices, indptr), shape=(n, n))\n",
    "A_csc"
   ]
  },
  {
   "cell_type": "code",
   "execution_count": null,
   "metadata": {},
   "outputs": [],
   "source": [
    "A_csc.toarray()"
   ]
  },
  {
   "cell_type": "markdown",
   "metadata": {},
   "source": [
    "## The `SparseTensor` class\n",
    "* [PyTorch Sparse documentation](https://github.com/rusty1s/pytorch_sparse)"
   ]
  },
  {
   "cell_type": "code",
   "execution_count": null,
   "metadata": {},
   "outputs": [],
   "source": [
    "from torch_sparse import SparseTensor\n",
    "import torch"
   ]
  },
  {
   "cell_type": "code",
   "execution_count": null,
   "metadata": {},
   "outputs": [],
   "source": [
    "# But col and row need to have dtype torch.long\n",
    "A_st = SparseTensor(row=torch.Tensor(row).to(torch.long), \n",
    "                 col=torch.Tensor(col).to(torch.long), \n",
    "                 value=torch.Tensor(data),\n",
    "                 sparse_sizes=(n, n))"
   ]
  },
  {
   "cell_type": "code",
   "execution_count": null,
   "metadata": {},
   "outputs": [],
   "source": [
    "A_st"
   ]
  },
  {
   "cell_type": "code",
   "execution_count": null,
   "metadata": {},
   "outputs": [],
   "source": [
    "A_st.to_dense()"
   ]
  },
  {
   "cell_type": "code",
   "execution_count": null,
   "metadata": {},
   "outputs": [],
   "source": [
    "A_st_no_val = SparseTensor(row=torch.Tensor(row).to(torch.long), \n",
    "                 col=torch.Tensor(col).to(torch.long), \n",
    "                 sparse_sizes=(n, n))\n",
    "A_st_no_val.to_dense()"
   ]
  },
  {
   "cell_type": "markdown",
   "metadata": {},
   "source": [
    "Creation of `SparseTensor`"
   ]
  },
  {
   "cell_type": "code",
   "execution_count": null,
   "metadata": {},
   "outputs": [],
   "source": [
    "SparseTensor.from_dense(torch.tensor(A))"
   ]
  },
  {
   "cell_type": "code",
   "execution_count": null,
   "metadata": {},
   "outputs": [],
   "source": [
    "SparseTensor.from_scipy(A_coo)"
   ]
  },
  {
   "cell_type": "markdown",
   "metadata": {},
   "source": [
    "Conversion to standard fomats:"
   ]
  },
  {
   "cell_type": "code",
   "execution_count": null,
   "metadata": {},
   "outputs": [],
   "source": [
    "row, col, value = A_st.coo()\n",
    "# rowptr, col, value = A_st.csr()\n",
    "# colptr, row, value = A_st.csc()\n",
    "row, col, value"
   ]
  },
  {
   "cell_type": "markdown",
   "metadata": {},
   "source": [
    "Basic operations:"
   ]
  },
  {
   "cell_type": "code",
   "execution_count": null,
   "metadata": {},
   "outputs": [],
   "source": [
    "# A_st = A_st[:100, :100]  # Slicing, indexing and masking support\n",
    "# A_st = A_st.set_diag()   # Add diagonal entries\n",
    "# A_st_t = A_st.t()        # Transpose\n",
    "# out = A_st.matmul(x)     # Sparse-dense matrix multiplication\n",
    "# A_st = A_st.matmul(A_st)  # Sparse-sparse matrix multiplication"
   ]
  },
  {
   "cell_type": "markdown",
   "metadata": {},
   "source": [
    "## Use of `SparseTensor` in PyG"
   ]
  },
  {
   "cell_type": "markdown",
   "metadata": {},
   "source": [
    "### Representation of adjacency matrices"
   ]
  },
  {
   "cell_type": "code",
   "execution_count": null,
   "metadata": {},
   "outputs": [],
   "source": [
    "from torch_geometric.datasets import Planetoid\n",
    "dataset = Planetoid('Planetoid', name='Cora')"
   ]
  },
  {
   "cell_type": "code",
   "execution_count": null,
   "metadata": {},
   "outputs": [],
   "source": [
    "dataset[0]"
   ]
  },
  {
   "cell_type": "code",
   "execution_count": null,
   "metadata": {},
   "outputs": [],
   "source": [
    "edge_index = dataset.data.edge_index\n",
    "edge_index"
   ]
  },
  {
   "cell_type": "code",
   "execution_count": null,
   "metadata": {},
   "outputs": [],
   "source": [
    "num_nodes = dataset[0].x.shape[0]\n",
    "adj = SparseTensor(row=edge_index[0], col=edge_index[1],\n",
    "                   sparse_sizes=(num_nodes, num_nodes))\n",
    "adj"
   ]
  },
  {
   "cell_type": "markdown",
   "metadata": {},
   "source": [
    "Direct conversion:"
   ]
  },
  {
   "cell_type": "code",
   "execution_count": null,
   "metadata": {},
   "outputs": [],
   "source": [
    "import torch_geometric.transforms as T\n",
    "dataset_st = Planetoid('Planetoid', name='Cora', transform=T.ToSparseTensor())\n",
    "dataset_st[0]"
   ]
  },
  {
   "cell_type": "code",
   "execution_count": null,
   "metadata": {},
   "outputs": [],
   "source": [
    "dataset_st[0].adj_t"
   ]
  },
  {
   "cell_type": "markdown",
   "metadata": {},
   "source": [
    "Back to `edge_index`:"
   ]
  },
  {
   "cell_type": "code",
   "execution_count": null,
   "metadata": {},
   "outputs": [],
   "source": [
    "row, col, edge_attr = dataset_st[0].adj_t.t().coo()\n",
    "edge_index = torch.stack([row, col], dim=0)\n",
    "edge_index"
   ]
  },
  {
   "cell_type": "markdown",
   "metadata": {},
   "source": [
    "### Usage in the `forward` method"
   ]
  },
  {
   "cell_type": "code",
   "execution_count": null,
   "metadata": {},
   "outputs": [],
   "source": [
    "from torch_geometric.nn import GCNConv\n",
    "conv = GCNConv(dataset.data.x.shape[1], 4)"
   ]
  },
  {
   "cell_type": "code",
   "execution_count": null,
   "metadata": {},
   "outputs": [],
   "source": [
    "out1 = conv(dataset.data.x, dataset[0].edge_index)\n",
    "out1"
   ]
  },
  {
   "cell_type": "code",
   "execution_count": null,
   "metadata": {},
   "outputs": [],
   "source": [
    "out2 = conv(dataset[0].x, adj.t())\n",
    "out2"
   ]
  },
  {
   "cell_type": "code",
   "execution_count": null,
   "metadata": {},
   "outputs": [],
   "source": []
  }
 ],
 "metadata": {
  "kernelspec": {
   "display_name": "Python 3 (ipykernel)",
   "language": "python",
   "name": "python3"
  },
  "language_info": {
   "codemirror_mode": {
    "name": "ipython",
    "version": 3
   },
   "file_extension": ".py",
   "mimetype": "text/x-python",
   "name": "python",
   "nbconvert_exporter": "python",
   "pygments_lexer": "ipython3",
   "version": "3.9.7"
  }
 },
 "nbformat": 4,
 "nbformat_minor": 4
}
